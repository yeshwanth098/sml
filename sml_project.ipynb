{
  "nbformat": 4,
  "nbformat_minor": 0,
  "metadata": {
    "colab": {
      "provenance": [],
      "include_colab_link": true
    },
    "kernelspec": {
      "name": "python3",
      "display_name": "Python 3"
    },
    "language_info": {
      "name": "python"
    }
  },
  "cells": [
    {
      "cell_type": "markdown",
      "metadata": {
        "id": "view-in-github",
        "colab_type": "text"
      },
      "source": [
        "<a href=\"https://colab.research.google.com/github/yeshwanth098/sml/blob/main/sml_project.ipynb\" target=\"_parent\"><img src=\"https://colab.research.google.com/assets/colab-badge.svg\" alt=\"Open In Colab\"/></a>"
      ]
    },
    {
      "cell_type": "code",
      "execution_count": null,
      "metadata": {
        "colab": {
          "base_uri": "https://localhost:8080/"
        },
        "id": "mCYYivuw2WIZ",
        "outputId": "ddfa210e-aeb9-4b07-c71a-24b5b90c70be"
      },
      "outputs": [
        {
          "output_type": "stream",
          "name": "stdout",
          "text": [
            "     buying  maint  doors persons lug_boot safety  class\n",
            "0     vhigh  vhigh      2       2    small    low  unacc\n",
            "1     vhigh  vhigh      2       2    small    med  unacc\n",
            "2     vhigh  vhigh      2       2    small   high  unacc\n",
            "3     vhigh  vhigh      2       2      med    low  unacc\n",
            "4     vhigh  vhigh      2       2      med    med  unacc\n",
            "...     ...    ...    ...     ...      ...    ...    ...\n",
            "1723    low    low  5more    more      med    med   good\n",
            "1724    low    low  5more    more      med   high  vgood\n",
            "1725    low    low  5more    more      big    low  unacc\n",
            "1726    low    low  5more    more      big    med   good\n",
            "1727    low    low  5more    more      big   high  vgood\n",
            "\n",
            "[1728 rows x 7 columns]\n"
          ]
        }
      ],
      "source": [
        "import pandas as pd\n",
        "import numpy as np\n",
        "d=pd.read_csv('/content/cars.csv')\n",
        "print(d)"
      ]
    },
    {
      "cell_type": "code",
      "source": [
        "d['buying']=d['buying'].replace({'vhigh':1,'high':2,'med':3,'low':4})\n",
        "d['maint']=d['maint'].replace({'vhigh':4,'high':3,'med':2,'low':1})\n",
        "d['lug_boot']=d['lug_boot'].replace({'small':1,'med':2,'big':3})\n",
        "d['safety']=d['safety'].replace({'low':1,'med':2,'high':3})\n",
        "print(d)"
      ],
      "metadata": {
        "colab": {
          "base_uri": "https://localhost:8080/"
        },
        "id": "w1J9kUX64RWe",
        "outputId": "a0cfb393-c639-4d2b-99e3-28f672d99f2a"
      },
      "execution_count": null,
      "outputs": [
        {
          "output_type": "stream",
          "name": "stdout",
          "text": [
            "      buying  maint  doors persons  lug_boot  safety  class\n",
            "0          1      4      2       2         1       1  unacc\n",
            "1          1      4      2       2         1       2  unacc\n",
            "2          1      4      2       2         1       3  unacc\n",
            "3          1      4      2       2         2       1  unacc\n",
            "4          1      4      2       2         2       2  unacc\n",
            "...      ...    ...    ...     ...       ...     ...    ...\n",
            "1723       4      1  5more    more         2       2   good\n",
            "1724       4      1  5more    more         2       3  vgood\n",
            "1725       4      1  5more    more         3       1  unacc\n",
            "1726       4      1  5more    more         3       2   good\n",
            "1727       4      1  5more    more         3       3  vgood\n",
            "\n",
            "[1728 rows x 7 columns]\n"
          ]
        },
        {
          "output_type": "stream",
          "name": "stderr",
          "text": [
            "<ipython-input-23-f03c6439b589>:1: FutureWarning: Downcasting behavior in `replace` is deprecated and will be removed in a future version. To retain the old behavior, explicitly call `result.infer_objects(copy=False)`. To opt-in to the future behavior, set `pd.set_option('future.no_silent_downcasting', True)`\n",
            "  d['buying']=d['buying'].replace({'vhigh':1,'high':2,'med':3,'low':4})\n",
            "<ipython-input-23-f03c6439b589>:2: FutureWarning: Downcasting behavior in `replace` is deprecated and will be removed in a future version. To retain the old behavior, explicitly call `result.infer_objects(copy=False)`. To opt-in to the future behavior, set `pd.set_option('future.no_silent_downcasting', True)`\n",
            "  d['maint']=d['maint'].replace({'vhigh':4,'high':3,'med':2,'low':1})\n",
            "<ipython-input-23-f03c6439b589>:3: FutureWarning: Downcasting behavior in `replace` is deprecated and will be removed in a future version. To retain the old behavior, explicitly call `result.infer_objects(copy=False)`. To opt-in to the future behavior, set `pd.set_option('future.no_silent_downcasting', True)`\n",
            "  d['lug_boot']=d['lug_boot'].replace({'small':1,'med':2,'big':3})\n",
            "<ipython-input-23-f03c6439b589>:4: FutureWarning: Downcasting behavior in `replace` is deprecated and will be removed in a future version. To retain the old behavior, explicitly call `result.infer_objects(copy=False)`. To opt-in to the future behavior, set `pd.set_option('future.no_silent_downcasting', True)`\n",
            "  d['safety']=d['safety'].replace({'low':1,'med':2,'high':3})\n"
          ]
        }
      ]
    },
    {
      "cell_type": "code",
      "source": [
        "y=d['class']\n",
        "print(y)"
      ],
      "metadata": {
        "colab": {
          "base_uri": "https://localhost:8080/"
        },
        "id": "914UihId2mM_",
        "outputId": "c75f3093-1fa1-4f04-ca1e-bc153259d123"
      },
      "execution_count": null,
      "outputs": [
        {
          "output_type": "stream",
          "name": "stdout",
          "text": [
            "0       unacc\n",
            "1       unacc\n",
            "2       unacc\n",
            "3       unacc\n",
            "4       unacc\n",
            "        ...  \n",
            "1723     good\n",
            "1724    vgood\n",
            "1725    unacc\n",
            "1726     good\n",
            "1727    vgood\n",
            "Name: class, Length: 1728, dtype: object\n"
          ]
        }
      ]
    },
    {
      "cell_type": "code",
      "source": [
        "x=d.drop('class',axis=1)\n",
        "print(x)"
      ],
      "metadata": {
        "colab": {
          "base_uri": "https://localhost:8080/"
        },
        "id": "dUfgRBA-2mJc",
        "outputId": "72bd8923-3c0b-4e44-e17d-1f5370e0b91d"
      },
      "execution_count": null,
      "outputs": [
        {
          "output_type": "stream",
          "name": "stdout",
          "text": [
            "      buying  maint  doors persons  lug_boot  safety\n",
            "0          1      4      2       2         1       1\n",
            "1          1      4      2       2         1       2\n",
            "2          1      4      2       2         1       3\n",
            "3          1      4      2       2         2       1\n",
            "4          1      4      2       2         2       2\n",
            "...      ...    ...    ...     ...       ...     ...\n",
            "1723       4      1  5more    more         2       2\n",
            "1724       4      1  5more    more         2       3\n",
            "1725       4      1  5more    more         3       1\n",
            "1726       4      1  5more    more         3       2\n",
            "1727       4      1  5more    more         3       3\n",
            "\n",
            "[1728 rows x 6 columns]\n"
          ]
        }
      ]
    },
    {
      "cell_type": "code",
      "source": [
        "x.isnull().sum()\n",
        "x.replace([np.inf, -np.inf], np.nan, inplace=True)\n",
        "x.fillna(0, inplace=True)"
      ],
      "metadata": {
        "id": "Ag8VjfzP2mHp"
      },
      "execution_count": null,
      "outputs": []
    },
    {
      "cell_type": "code",
      "source": [
        "from sklearn.model_selection import train_test_split\n",
        "x_train,x_test,y_train,y_test=train_test_split(x,y,test_size=0.2)"
      ],
      "metadata": {
        "id": "kIMgWGWD2mFc"
      },
      "execution_count": null,
      "outputs": []
    },
    {
      "cell_type": "code",
      "source": [
        "!pip install scikit-learn pandas\n",
        "import pandas as pd\n",
        "from sklearn.preprocessing import LabelEncoder\n",
        "encoder = LabelEncoder()\n",
        "for column in x_train.select_dtypes(include=['object']).columns:\n",
        "    x_train[column] = encoder.fit_transform(x_train[column])\n",
        "    x_test[column] = encoder.transform(x_test[column])\n",
        "from sklearn.linear_model import Perceptron\n",
        "from sklearn.metrics import accuracy_score\n",
        "model=Perceptron()\n",
        "model.fit(x_train,y_train)\n",
        "y_pred=model.predict(x_test)\n",
        "accuracy=accuracy_score(y_test,y_pred)\n",
        "print(\"Accuracy:\",accuracy)"
      ],
      "metadata": {
        "id": "QQWbNkvk2mBI",
        "colab": {
          "base_uri": "https://localhost:8080/"
        },
        "outputId": "811ec325-c3a3-42c1-9b62-fc33d7d06366"
      },
      "execution_count": null,
      "outputs": [
        {
          "output_type": "stream",
          "name": "stdout",
          "text": [
            "Requirement already satisfied: scikit-learn in /usr/local/lib/python3.10/dist-packages (1.5.2)\n",
            "Requirement already satisfied: pandas in /usr/local/lib/python3.10/dist-packages (2.2.2)\n",
            "Requirement already satisfied: numpy>=1.19.5 in /usr/local/lib/python3.10/dist-packages (from scikit-learn) (1.26.4)\n",
            "Requirement already satisfied: scipy>=1.6.0 in /usr/local/lib/python3.10/dist-packages (from scikit-learn) (1.13.1)\n",
            "Requirement already satisfied: joblib>=1.2.0 in /usr/local/lib/python3.10/dist-packages (from scikit-learn) (1.4.2)\n",
            "Requirement already satisfied: threadpoolctl>=3.1.0 in /usr/local/lib/python3.10/dist-packages (from scikit-learn) (3.5.0)\n",
            "Requirement already satisfied: python-dateutil>=2.8.2 in /usr/local/lib/python3.10/dist-packages (from pandas) (2.8.2)\n",
            "Requirement already satisfied: pytz>=2020.1 in /usr/local/lib/python3.10/dist-packages (from pandas) (2024.2)\n",
            "Requirement already satisfied: tzdata>=2022.7 in /usr/local/lib/python3.10/dist-packages (from pandas) (2024.2)\n",
            "Requirement already satisfied: six>=1.5 in /usr/local/lib/python3.10/dist-packages (from python-dateutil>=2.8.2->pandas) (1.16.0)\n",
            "Accuracy: 0.6763005780346821\n"
          ]
        }
      ]
    },
    {
      "cell_type": "code",
      "source": [
        "from sklearn.metrics import confusion_matrix\n",
        "cm=confusion_matrix(y_test,y_pred)\n",
        "cm"
      ],
      "metadata": {
        "colab": {
          "base_uri": "https://localhost:8080/"
        },
        "id": "El7Od82U2l-4",
        "outputId": "e125913e-d5b1-4fb4-840b-cc462d66a756"
      },
      "execution_count": null,
      "outputs": [
        {
          "output_type": "execute_result",
          "data": {
            "text/plain": [
              "array([[  3,  45,  35,   1],\n",
              "       [  0,  11,   0,   0],\n",
              "       [  2,  16, 219,   0],\n",
              "       [  0,  13,   0,   1]])"
            ]
          },
          "metadata": {},
          "execution_count": 33
        }
      ]
    },
    {
      "cell_type": "code",
      "source": [
        "from sklearn.metrics import classification_report\n",
        "print(classification_report(y_test,y_pred))"
      ],
      "metadata": {
        "colab": {
          "base_uri": "https://localhost:8080/"
        },
        "id": "EUFuT-EQ2l86",
        "outputId": "b0c0dc70-6b77-452e-a1ec-f41044e86b3c"
      },
      "execution_count": null,
      "outputs": [
        {
          "output_type": "stream",
          "name": "stdout",
          "text": [
            "              precision    recall  f1-score   support\n",
            "\n",
            "         acc       0.60      0.04      0.07        84\n",
            "        good       0.13      1.00      0.23        11\n",
            "       unacc       0.86      0.92      0.89       237\n",
            "       vgood       0.50      0.07      0.12        14\n",
            "\n",
            "    accuracy                           0.68       346\n",
            "   macro avg       0.52      0.51      0.33       346\n",
            "weighted avg       0.76      0.68      0.64       346\n",
            "\n"
          ]
        }
      ]
    },
    {
      "cell_type": "code",
      "source": [
        "from sklearn.svm import SVC\n",
        "from sklearn.metrics import accuracy_score\n",
        "model=SVC()\n",
        "model.fit(x_train,y_train)\n",
        "y_pred=model.predict(x_test)\n",
        "accuracy=accuracy_score(y_test,y_pred)\n",
        "print(\"Accuracy:\",accuracy)\n"
      ],
      "metadata": {
        "colab": {
          "base_uri": "https://localhost:8080/"
        },
        "id": "eD3H9ktn2l6Z",
        "outputId": "224472d8-d147-4faa-8681-aa2ef0fcacfa"
      },
      "execution_count": null,
      "outputs": [
        {
          "output_type": "stream",
          "name": "stdout",
          "text": [
            "Accuracy: 0.9421965317919075\n"
          ]
        }
      ]
    },
    {
      "cell_type": "code",
      "source": [
        "from sklearn.metrics import confusion_matrix\n",
        "cm=confusion_matrix(y_test,y_pred)\n",
        "cm"
      ],
      "metadata": {
        "colab": {
          "base_uri": "https://localhost:8080/"
        },
        "id": "b5FOnfCF2l4Q",
        "outputId": "ddbe0080-69ce-48bc-dd5d-514e2e210a0c"
      },
      "execution_count": null,
      "outputs": [
        {
          "output_type": "execute_result",
          "data": {
            "text/plain": [
              "array([[ 75,   2,   7,   0],\n",
              "       [  0,  10,   0,   1],\n",
              "       [  6,   1, 230,   0],\n",
              "       [  3,   0,   0,  11]])"
            ]
          },
          "metadata": {},
          "execution_count": 36
        }
      ]
    },
    {
      "cell_type": "code",
      "source": [
        "from sklearn.metrics import classification_report\n",
        "print(classification_report(y_test,y_pred))\n"
      ],
      "metadata": {
        "id": "OBi_sii72l1z",
        "colab": {
          "base_uri": "https://localhost:8080/"
        },
        "outputId": "8d36fca3-8ac6-4cad-d3a9-71000c50229c"
      },
      "execution_count": null,
      "outputs": [
        {
          "output_type": "stream",
          "name": "stdout",
          "text": [
            "              precision    recall  f1-score   support\n",
            "\n",
            "         acc       0.89      0.89      0.89        84\n",
            "        good       0.77      0.91      0.83        11\n",
            "       unacc       0.97      0.97      0.97       237\n",
            "       vgood       0.92      0.79      0.85        14\n",
            "\n",
            "    accuracy                           0.94       346\n",
            "   macro avg       0.89      0.89      0.89       346\n",
            "weighted avg       0.94      0.94      0.94       346\n",
            "\n"
          ]
        }
      ]
    },
    {
      "cell_type": "code",
      "source": [
        "from sklearn.linear_model import LogisticRegression\n",
        "from sklearn.metrics import accuracy_score\n",
        "model=LogisticRegression()\n",
        "model.fit(x_train,y_train)\n",
        "y_pred=model.predict(x_test)\n",
        "accuracy=accuracy_score(y_test,y_pred)\n",
        "print(\"Accuracy:\",accuracy)"
      ],
      "metadata": {
        "id": "OsZIGr315Ws4",
        "colab": {
          "base_uri": "https://localhost:8080/"
        },
        "outputId": "35f3d1e6-29db-4a6a-e3b0-3d16aacef51d"
      },
      "execution_count": null,
      "outputs": [
        {
          "output_type": "stream",
          "name": "stdout",
          "text": [
            "Accuracy: 0.8554913294797688\n"
          ]
        },
        {
          "output_type": "stream",
          "name": "stderr",
          "text": [
            "/usr/local/lib/python3.10/dist-packages/sklearn/linear_model/_logistic.py:469: ConvergenceWarning: lbfgs failed to converge (status=1):\n",
            "STOP: TOTAL NO. of ITERATIONS REACHED LIMIT.\n",
            "\n",
            "Increase the number of iterations (max_iter) or scale the data as shown in:\n",
            "    https://scikit-learn.org/stable/modules/preprocessing.html\n",
            "Please also refer to the documentation for alternative solver options:\n",
            "    https://scikit-learn.org/stable/modules/linear_model.html#logistic-regression\n",
            "  n_iter_i = _check_optimize_result(\n"
          ]
        }
      ]
    },
    {
      "cell_type": "code",
      "source": [
        "from sklearn.metrics import confusion_matrix\n",
        "cm=confusion_matrix(y_test,y_pred)\n",
        "cm"
      ],
      "metadata": {
        "colab": {
          "base_uri": "https://localhost:8080/"
        },
        "id": "DNfbux5l5WpS",
        "outputId": "737dc9a6-33c4-4d39-8ebe-7183d6c6c242"
      },
      "execution_count": null,
      "outputs": [
        {
          "output_type": "execute_result",
          "data": {
            "text/plain": [
              "array([[ 52,   1,  31,   0],\n",
              "       [  3,   6,   1,   1],\n",
              "       [  6,   3, 228,   0],\n",
              "       [  4,   0,   0,  10]])"
            ]
          },
          "metadata": {},
          "execution_count": 39
        }
      ]
    },
    {
      "cell_type": "code",
      "source": [
        "from sklearn.metrics import classification_report\n",
        "print(classification_report(y_test,y_pred))"
      ],
      "metadata": {
        "id": "renxdAfa5WnS",
        "colab": {
          "base_uri": "https://localhost:8080/"
        },
        "outputId": "3635f594-d91a-4386-c403-e5789c47afa2"
      },
      "execution_count": null,
      "outputs": [
        {
          "output_type": "stream",
          "name": "stdout",
          "text": [
            "              precision    recall  f1-score   support\n",
            "\n",
            "         acc       0.80      0.62      0.70        84\n",
            "        good       0.60      0.55      0.57        11\n",
            "       unacc       0.88      0.96      0.92       237\n",
            "       vgood       0.91      0.71      0.80        14\n",
            "\n",
            "    accuracy                           0.86       346\n",
            "   macro avg       0.80      0.71      0.75       346\n",
            "weighted avg       0.85      0.86      0.85       346\n",
            "\n"
          ]
        }
      ]
    },
    {
      "cell_type": "code",
      "source": [
        "\n",
        "from sklearn.neighbors import KNeighborsClassifier\n",
        "from sklearn.metrics import accuracy_score\n",
        "model=KNeighborsClassifier()\n",
        "model.fit(x_train,y_train)\n",
        "y_pred=model.predict(x_test)\n",
        "accuracy=accuracy_score(y_test,y_pred)\n",
        "print(\"Accuracy:\",accuracy)"
      ],
      "metadata": {
        "id": "kf6M1hrf5WlQ",
        "colab": {
          "base_uri": "https://localhost:8080/"
        },
        "outputId": "71d8edc0-a7c9-4669-e85b-a8ef08d7202e"
      },
      "execution_count": null,
      "outputs": [
        {
          "output_type": "stream",
          "name": "stdout",
          "text": [
            "Accuracy: 0.930635838150289\n"
          ]
        }
      ]
    },
    {
      "cell_type": "code",
      "source": [
        "from sklearn.metrics import confusion_matrix\n",
        "cm=confusion_matrix(y_test,y_pred)\n",
        "cm"
      ],
      "metadata": {
        "id": "TJ4H4Jht5WjH",
        "colab": {
          "base_uri": "https://localhost:8080/"
        },
        "outputId": "a7d61d14-747d-4441-c423-7582e0955de0"
      },
      "execution_count": null,
      "outputs": [
        {
          "output_type": "execute_result",
          "data": {
            "text/plain": [
              "array([[ 69,   3,  12,   0],\n",
              "       [  4,   7,   0,   0],\n",
              "       [  0,   0, 237,   0],\n",
              "       [  2,   3,   0,   9]])"
            ]
          },
          "metadata": {},
          "execution_count": 42
        }
      ]
    },
    {
      "cell_type": "code",
      "source": [
        "from sklearn.metrics import classification_report\n",
        "print(classification_report(y_test,y_pred))"
      ],
      "metadata": {
        "colab": {
          "base_uri": "https://localhost:8080/"
        },
        "id": "G6jr6sy75WhF",
        "outputId": "1bab83fa-fd81-48fd-de2d-f53f33239a8a"
      },
      "execution_count": null,
      "outputs": [
        {
          "output_type": "stream",
          "name": "stdout",
          "text": [
            "              precision    recall  f1-score   support\n",
            "\n",
            "         acc       0.92      0.82      0.87        84\n",
            "        good       0.54      0.64      0.58        11\n",
            "       unacc       0.95      1.00      0.98       237\n",
            "       vgood       1.00      0.64      0.78        14\n",
            "\n",
            "    accuracy                           0.93       346\n",
            "   macro avg       0.85      0.78      0.80       346\n",
            "weighted avg       0.93      0.93      0.93       346\n",
            "\n"
          ]
        }
      ]
    },
    {
      "cell_type": "code",
      "source": [
        "from sklearn.utils import resample"
      ],
      "metadata": {
        "id": "l0S3Vlnd5Weu"
      },
      "execution_count": null,
      "outputs": []
    },
    {
      "cell_type": "code",
      "source": [
        "x.shape"
      ],
      "metadata": {
        "id": "zd5CgXnf5Wcm",
        "colab": {
          "base_uri": "https://localhost:8080/"
        },
        "outputId": "1ab9838b-5d19-407a-d5a9-756ac2cd9a86"
      },
      "execution_count": null,
      "outputs": [
        {
          "output_type": "execute_result",
          "data": {
            "text/plain": [
              "(1728, 6)"
            ]
          },
          "metadata": {},
          "execution_count": 45
        }
      ]
    },
    {
      "cell_type": "code",
      "source": [
        "y.shape"
      ],
      "metadata": {
        "colab": {
          "base_uri": "https://localhost:8080/"
        },
        "id": "UJn0MhJf5wk_",
        "outputId": "3db43f71-1069-409f-fa69-8219136cc206"
      },
      "execution_count": null,
      "outputs": [
        {
          "output_type": "execute_result",
          "data": {
            "text/plain": [
              "(1728,)"
            ]
          },
          "metadata": {},
          "execution_count": 46
        }
      ]
    },
    {
      "cell_type": "code",
      "source": [
        "import numpy as np\n",
        "import pandas as pd # Import pandas for data manipulation\n",
        "from sklearn.utils import resample\n",
        "from sklearn.model_selection import train_test_split\n",
        "from sklearn.neighbors import KNeighborsClassifier\n",
        "from sklearn.metrics import accuracy_score\n",
        "import matplotlib.pyplot as plt\n",
        "knn_accuracies = []\n",
        "\n",
        "# Assuming 'x' is a pandas DataFrame\n",
        "for column in x.select_dtypes(include=['object']).columns:\n",
        "  # Replace both '5more' and 'more' with '5'\n",
        "  x[column] = x[column].replace({'5more': '5', 'more': '5'})\n",
        "  x[column] = pd.to_numeric(x[column])\n",
        "\n",
        "for i in range(10):\n",
        "    x_resampled, y_resampled = resample(x, y)\n",
        "    x_train, x_test, y_train, y_test = train_test_split(x_resampled, y_resampled, test_size=0.2, random_state=42)\n",
        "    model = KNeighborsClassifier()\n",
        "    model.fit(x_train,y_train)\n",
        "    y_pred = model.predict(x_test)\n",
        "    accuracy = accuracy_score(y_test, y_pred)\n",
        "    knn_accuracies.append(accuracy)\n",
        "    print(f\"Accuracy for iteration {i+1}: {accuracy:.4f}\")\n",
        "\n",
        "plt.figure(figsize=(10, 6))\n",
        "plt.plot(range(1, 11), knn_accuracies, marker='o', linestyle='-', color='b', label='KNN Accuracy')\n",
        "plt.xlabel('Bootstrap Iteration')\n",
        "plt.ylabel('Accuracy')\n",
        "plt.title('KNN Accuracy across Bootstrapping Iterations')\n",
        "plt.xticks(range(1, 11))\n",
        "plt.ylim(0, 1)\n",
        "plt.legend()\n",
        "plt.show()"
      ],
      "metadata": {
        "colab": {
          "base_uri": "https://localhost:8080/",
          "height": 597
        },
        "id": "bYNWXxon5whp",
        "outputId": "c2b73728-08cb-41f4-8bc5-912901d56f89"
      },
      "execution_count": null,
      "outputs": [
        {
          "output_type": "stream",
          "name": "stdout",
          "text": [
            "Accuracy for iteration 1: 0.9509\n",
            "Accuracy for iteration 2: 0.9509\n",
            "Accuracy for iteration 3: 0.9509\n",
            "Accuracy for iteration 4: 0.9393\n",
            "Accuracy for iteration 5: 0.9422\n",
            "Accuracy for iteration 6: 0.9306\n",
            "Accuracy for iteration 7: 0.9480\n",
            "Accuracy for iteration 8: 0.9335\n",
            "Accuracy for iteration 9: 0.9393\n",
            "Accuracy for iteration 10: 0.9364\n"
          ]
        },
        {
          "output_type": "display_data",
          "data": {
            "text/plain": [
              "<Figure size 1000x600 with 1 Axes>"
            ],
            "image/png": "[encoded data removed]"
          },
          "metadata": {}
        }
      ]
    },
    {
      "cell_type": "code",
      "source": [
        "import numpy as np\n",
        "from sklearn.utils import resample\n",
        "from sklearn.model_selection import train_test_split\n",
        "from sklearn.linear_model import LogisticRegression\n",
        "from sklearn.metrics import accuracy_score\n",
        "import matplotlib.pyplot as plt\n",
        "\n",
        "knn_accuracies = []\n",
        "\n",
        "for i in range(10):\n",
        "    x_resampled, y_resampled = resample(x, y)\n",
        "\n",
        "    x_train, x_test, y_train, y_test = train_test_split(x_resampled, y_resampled, test_size=0.2, random_state=42)\n",
        "\n",
        "    model = LogisticRegression(max_iter=1000)\n",
        "    model.fit(x_train, y_train)\n",
        "\n",
        "    y_pred = model.predict(x_test)\n",
        "\n",
        "    accuracy = accuracy_score(y_test, y_pred)\n",
        "\n",
        "    knn_accuracies.append(accuracy)\n",
        "    print(f\"Accuracy for iteration {i+1}: {accuracy:.4f}\")\n",
        "\n",
        "plt.figure(figsize=(10, 6))\n",
        "plt.plot(range(1, 11), knn_accuracies, marker='o', linestyle='-', color='b', label='Logistic Regression Accuracy')\n",
        "plt.xlabel('Bootstrap Iteration')\n",
        "plt.ylabel('Accuracy')\n",
        "plt.title('Logistic Regression Accuracy across Bootstrapping Iterations')\n",
        "plt.xticks(range(1, 11))\n",
        "plt.ylim(0, 1)\n",
        "plt.legend()\n",
        "plt.show()\n"
      ],
      "metadata": {
        "id": "IEfd6T6f5wdQ",
        "colab": {
          "base_uri": "https://localhost:8080/",
          "height": 597
        },
        "outputId": "85580135-76aa-4c17-ee8a-03971771d297"
      },
      "execution_count": null,
      "outputs": [
        {
          "output_type": "stream",
          "name": "stdout",
          "text": [
            "Accuracy for iteration 1: 0.8208\n",
            "Accuracy for iteration 2: 0.8699\n",
            "Accuracy for iteration 3: 0.8526\n",
            "Accuracy for iteration 4: 0.8237\n",
            "Accuracy for iteration 5: 0.8526\n",
            "Accuracy for iteration 6: 0.8613\n",
            "Accuracy for iteration 7: 0.8439\n",
            "Accuracy for iteration 8: 0.8642\n",
            "Accuracy for iteration 9: 0.8353\n",
            "Accuracy for iteration 10: 0.8584\n"
          ]
        },
        {
          "output_type": "display_data",
          "data": {
            "text/plain": [
              "<Figure size 1000x600 with 1 Axes>"
            ],
            "image/png": "[encoded data removed]"
          },
          "metadata": {}
        }
      ]
    },
    {
      "cell_type": "code",
      "source": [
        "import numpy as np\n",
        "from sklearn.utils import resample\n",
        "from sklearn.model_selection import train_test_split\n",
        "from sklearn.svm import SVC\n",
        "from sklearn.metrics import accuracy_score\n",
        "import matplotlib.pyplot as plt\n",
        "svm_accuracies = []\n",
        "for i in range(10):\n",
        "    x_resampled, y_resampled = resample(x, y)\n",
        "    x_train, x_test, y_train, y_test = train_test_split(x_resampled, y_resampled, test_size=0.2, random_state=42)\n",
        "    model = SVC(kernel='linear')\n",
        "    model.fit(x_train, y_train)\n",
        "    y_pred = model.predict(x_test)\n",
        "    accuracy = accuracy_score(y_test, y_pred)\n",
        "    svm_accuracies.append(accuracy)\n",
        "    print(f\"Accuracy for iteration {i+1}: {accuracy:.4f}\")\n",
        "plt.figure(figsize=(10, 6))\n",
        "plt.plot(range(1, 11), svm_accuracies, marker='o', linestyle='-', color='g', label='SVM Accuracy')\n",
        "plt.xlabel('Bootstrap Iteration')\n",
        "plt.ylabel('Accuracy')\n",
        "plt.title('SVM Accuracy across Bootstrapping Iterations')\n",
        "plt.xticks(range(1, 11))\n",
        "plt.ylim(0, 1)\n",
        "plt.legend()\n",
        "plt.show()\n"
      ],
      "metadata": {
        "id": "Pc1qEATq5wbX",
        "colab": {
          "base_uri": "https://localhost:8080/",
          "height": 597
        },
        "outputId": "d68f9f77-1bbd-4c2d-ad16-4b1f8cd87ed0"
      },
      "execution_count": null,
      "outputs": [
        {
          "output_type": "stream",
          "name": "stdout",
          "text": [
            "Accuracy for iteration 1: 0.8786\n",
            "Accuracy for iteration 2: 0.8468\n",
            "Accuracy for iteration 3: 0.8555\n",
            "Accuracy for iteration 4: 0.8757\n",
            "Accuracy for iteration 5: 0.8757\n",
            "Accuracy for iteration 6: 0.8526\n",
            "Accuracy for iteration 7: 0.8786\n",
            "Accuracy for iteration 8: 0.8179\n",
            "Accuracy for iteration 9: 0.8555\n",
            "Accuracy for iteration 10: 0.8815\n"
          ]
        },
        {
          "output_type": "display_data",
          "data": {
            "text/plain": [
              "<Figure size 1000x600 with 1 Axes>"
            ],
            "image/png": "[encoded data removed]"
          },
          "metadata": {}
        }
      ]
    },
    {
      "cell_type": "code",
      "source": [],
      "metadata": {
        "id": "6KQm-zEP8q4u"
      },
      "execution_count": null,
      "outputs": []
    }
  ]
}