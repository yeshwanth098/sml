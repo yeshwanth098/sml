{
  "nbformat": 4,
  "nbformat_minor": 0,
  "metadata": {
    "colab": {
      "provenance": [],
      "include_colab_link": true
    },
    "kernelspec": {
      "name": "python3",
      "display_name": "Python 3"
    },
    "language_info": {
      "name": "python"
    }
  },
  "cells": [
    {
      "cell_type": "markdown",
      "metadata": {
        "id": "view-in-github",
        "colab_type": "text"
      },
      "source": [
        "<a href=\"https://colab.research.google.com/github/yeshwanth098/sml/blob/main/Assignment_2.ipynb\" target=\"_parent\"><img src=\"https://colab.research.google.com/assets/colab-badge.svg\" alt=\"Open In Colab\"/></a>"
      ]
    },
    {
      "cell_type": "code",
      "execution_count": null,
      "metadata": {
        "colab": {
          "base_uri": "https://localhost:8080/",
          "height": 482
        },
        "id": "kishHlM2iQ8G",
        "outputId": "d9996061-8c66-4379-af96-7b68d9bfb684"
      },
      "outputs": [
        {
          "output_type": "execute_result",
          "data": {
            "text/plain": [
              "(array([8., 3., 1., 0., 1.]),\n",
              " array([ 1.3 ,  3.24,  5.18,  7.12,  9.06, 11.  ]),\n",
              " <BarContainer object of 5 artists>)"
            ]
          },
          "metadata": {},
          "execution_count": 2
        },
        {
          "output_type": "display_data",
          "data": {
            "text/plain": [
              "<Figure size 640x480 with 1 Axes>"
            ],
            "image/png": "[encoded data removed]"
          },
          "metadata": {}
        }
      ],
      "source": [
        "#2303A5244\n",
        "#Question 1\n",
        "import numpy as np\n",
        "import matplotlib.pyplot as plt\n",
        "x=np.array([1.3,1.5,2.6,2.6,3.2,3.9,4.2,3.7,3.10,3.0,11,6.7,1.9])\n",
        "plt.hist(x,bins=5)"
      ]
    },
    {
      "cell_type": "code",
      "source": [
        "#Question 2\n",
        "# Find Mean ,Median,Mode,Variance,Standard deviation , Range , Interquartile Range (IQR),Skewness,Kurtosis of x and y\n",
        "import numpy as np\n",
        "from scipy import stats as s\n",
        "import matplotlib.pyplot as plt\n",
        "A=[12,13,56,23,41,28,51]\n",
        "B=[51,63,37,88,33,72,81]\n",
        "print(\"Mean of A is\",np.mean(A))\n",
        "print(\"Mean of B is\",np.mean(B))"
      ],
      "metadata": {
        "colab": {
          "base_uri": "https://localhost:8080/"
        },
        "id": "uJ7FXW0BjUsz",
        "outputId": "58507350-2ac8-492d-e3a0-75a534271ef0"
      },
      "execution_count": null,
      "outputs": [
        {
          "output_type": "stream",
          "name": "stdout",
          "text": [
            "Mean of A is 32.0\n",
            "Mean of B is 60.714285714285715\n"
          ]
        }
      ]
    },
    {
      "cell_type": "code",
      "source": [
        " print(\"Median of A is\",np.median(A))\n",
        " print(\"Median of B is\",np.median(B))"
      ],
      "metadata": {
        "colab": {
          "base_uri": "https://localhost:8080/"
        },
        "id": "untX6ARmkR_A",
        "outputId": "5fff9ab7-2397-4181-b8f3-aaa56a635978"
      },
      "execution_count": null,
      "outputs": [
        {
          "output_type": "stream",
          "name": "stdout",
          "text": [
            "Median of A is 28.0\n",
            "Median of B is 63.0\n"
          ]
        }
      ]
    },
    {
      "cell_type": "code",
      "source": [
        " print(\"Mode of A is\",s.mode(A))\n",
        " print(\"Mode of B is\",s.mode(B))"
      ],
      "metadata": {
        "id": "PIjXnzsbkZYq"
      },
      "execution_count": null,
      "outputs": []
    },
    {
      "cell_type": "code",
      "source": [
        " print(\"Variance of A is\",np.var(A))\n",
        " print(\"Variance of B is\",np.var(B))"
      ],
      "metadata": {
        "id": "nHfHL9G0kb21"
      },
      "execution_count": null,
      "outputs": []
    },
    {
      "cell_type": "code",
      "source": [
        " print(\"Standard deviation of A is\",np.std(A))\n",
        " print(\"Standard deviation of B is\",np.std(B))"
      ],
      "metadata": {
        "id": "AeG5aqOLkd3j"
      },
      "execution_count": null,
      "outputs": []
    },
    {
      "cell_type": "code",
      "source": [
        " print(\"Range of A is\",max(A)-min(A))\n",
        " print(\"Range of B is\",max(B)-min(B))"
      ],
      "metadata": {
        "id": "oxiFt3Kvkf-R"
      },
      "execution_count": null,
      "outputs": []
    },
    {
      "cell_type": "code",
      "source": [
        " print(\"Interquartile range of A is\",np.percentile(A,75)-np.percentile(A,25))\n",
        " print(\"Interquartile range of y is\",np.percentile(y,75)-np.percentile(B,25))"
      ],
      "metadata": {
        "id": "yrIXjP_QklN_"
      },
      "execution_count": null,
      "outputs": []
    },
    {
      "cell_type": "code",
      "source": [
        " print(\"Skewness of A is\",s.skew(A))\n",
        " print(\"Skewness of B is\",s.skew(B))"
      ],
      "metadata": {
        "colab": {
          "base_uri": "https://localhost:8080/"
        },
        "id": "UOyEql6CkoC0",
        "outputId": "5607bd3f-afab-4bf9-ec5f-3625ade225de"
      },
      "execution_count": null,
      "outputs": [
        {
          "output_type": "stream",
          "name": "stdout",
          "text": [
            "Skewness of A is 0.18755223867066048\n",
            "Skewness of B is -0.10160487226954186\n"
          ]
        }
      ]
    },
    {
      "cell_type": "code",
      "source": [
        " print(\"Kurtosis of A is\",s.kurtosis(A))\n",
        " print(\"Kurtosis of B is\",s.kurtosis(B))"
      ],
      "metadata": {
        "id": "T0hSfkWKkqDd"
      },
      "execution_count": null,
      "outputs": []
    }
  ]
}